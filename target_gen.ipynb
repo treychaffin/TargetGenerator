{
 "cells": [
  {
   "cell_type": "code",
   "execution_count": 177,
   "metadata": {},
   "outputs": [],
   "source": [
    "from reportlab.pdfgen import canvas\n",
    "from reportlab.lib.units import inch\n",
    "import math"
   ]
  },
  {
   "cell_type": "code",
   "execution_count": 178,
   "metadata": {},
   "outputs": [],
   "source": [
    "def minute_of_angle(input,moa,input_unit=\"yard\",output_unit=\"inch\"):\n",
    "\n",
    "  # One MOA is equal to 1/60 of a degree.\n",
    "  moa_per_degree = moa / 60\n",
    "\n",
    "  if input_unit == \"yard\":\n",
    "    inches = input * 3 * 12\n",
    "\n",
    "  if output_unit == \"inch\":\n",
    "    # Calculate the MOA.\n",
    "    moa = inches * math.radians(moa_per_degree/2) * 2\n",
    "\n",
    "  return moa"
   ]
  },
  {
   "cell_type": "code",
   "execution_count": 179,
   "metadata": {},
   "outputs": [],
   "source": [
    "def draw_centered_text(c, text, x, y, font=\"Helvetica\", font_size=12, font_color=\"black\"):\n",
    "    c.setFont(font, font_size)\n",
    "    c.setFillColor(font_color)\n",
    "    text_width = c.stringWidth(text, font, font_size)\n",
    "    # Assuming the height of a single line of text is roughly the font size\n",
    "    text_height = font_size\n",
    "    # Adjust x and y to center the text\n",
    "    c.drawString(x - (text_width / 2), y - (text_height / 3), text)\n"
   ]
  },
  {
   "cell_type": "code",
   "execution_count": 180,
   "metadata": {},
   "outputs": [],
   "source": [
    "def create_target(filename, page_size=(8.5 * inch, 11 * inch), margin=1.5 * inch, square_size=1 * inch, grid_size = 6,lines_color='black', lines_width=1, text=\"\"):\n",
    "  # Create a PDF canvas\n",
    "  pdf = canvas.Canvas(filename, pagesize=page_size)\n",
    "  pdf.setStrokeColor(lines_color)\n",
    "  pdf.setLineWidth(lines_width)\n",
    "  pdf.setLineCap(2)\n",
    "\n",
    "  # Calculate the number of rows and columns\n",
    "  num_rows = grid_size\n",
    "  num_cols = grid_size\n",
    "\n",
    "  # Calculate total grid width and height\n",
    "  grid_width = num_cols * square_size\n",
    "  grid_height = num_rows * square_size\n",
    "\n",
    "  # Calculate available space for the grid\n",
    "  available_width = page_size[0] - 2 * margin\n",
    "  available_height = page_size[1] - 2 * margin\n",
    "\n",
    "  # Center of page\n",
    "  x_center = margin + available_width / 2\n",
    "  y_center = margin + available_height / 2\n",
    "  x_min = x_center - grid_width / 2\n",
    "  x_max = x_center + grid_width / 2\n",
    "  y_min = y_center - grid_height / 2\n",
    "  y_max = y_center + grid_height / 2\n",
    "\n",
    "  # Quadrant lines\n",
    "  pdf.setStrokeColor(\"gray\")\n",
    "  pdf.setLineWidth(5)\n",
    "  pdf.line(x_center, y_min, x_center, y_max)\n",
    "  pdf.line(x_min, y_center, x_max, y_center)\n",
    "  pdf.setStrokeColor(lines_color)\n",
    "  pdf.setLineWidth(lines_width)\n",
    "\n",
    "  # Center the grid on the page\n",
    "  x_start = margin + (available_width - grid_width) / 2\n",
    "  y_start = margin + (available_height - grid_height) / 2\n",
    "\n",
    "  # Draw horizontal lines\n",
    "  for i in range(num_rows + 1):\n",
    "    y = y_start + i * square_size\n",
    "    pdf.line(x_start, y, x_start + grid_width, y)\n",
    "\n",
    "  # Draw vertical lines\n",
    "  for i in range(num_cols + 1):\n",
    "    x = x_start + i * square_size\n",
    "    pdf.line(x, y_start, x, y_start + grid_height)\n",
    "\n",
    "  # Draw diagonal lines\n",
    "  pdf.setLineWidth(20)\n",
    "  pdf.line(x_start, y_start, x_start + grid_width, y_start + grid_height)\n",
    "  pdf.line(x_start + grid_width, y_start, x_start, y_start + grid_height)\n",
    "\n",
    "  # Scope Adjustment Text\n",
    "  scope_adjustment_text_size = 72\n",
    "  draw_centered_text(pdf, \"R/U\", x_center-(x_center-x_min)/2, y_center-(y_center-y_min)/2, font_size=scope_adjustment_text_size, font_color=\"gray\")\n",
    "  draw_centered_text(pdf, \"R/D\", x_center-(x_center-x_min)/2, y_center+(y_center-y_min)/2, font_size=scope_adjustment_text_size, font_color=\"gray\")\n",
    "  draw_centered_text(pdf, \"L/U\", x_center+(x_center-x_min)/2, y_center-(y_center-y_min)/2, font_size=scope_adjustment_text_size, font_color=\"gray\")\n",
    "  draw_centered_text(pdf, \"L/D\", x_center+(x_center-x_min)/2, y_center+(y_center-y_min)/2, font_size=scope_adjustment_text_size, font_color=\"gray\")\n",
    "\n",
    "  pdf.setFillColor(\"black\")\n",
    "  pdf.setFont(\"Helvetica\", 12)\n",
    "  pdf.drawCentredString(x_center,0.5*inch,text)\n",
    "  # Save the PDF\n",
    "  pdf.save()"
   ]
  },
  {
   "cell_type": "code",
   "execution_count": 181,
   "metadata": {},
   "outputs": [],
   "source": [
    "yards = 25\n",
    "MOA = 1.5\n",
    "fileName = f\"{yards}yards_{str(MOA).replace('.','-')}moa.pdf\"\n",
    "gridSize = minute_of_angle(yards,MOA)\n",
    "margin = 0.5 #inches\n",
    "useableWidth = 8.5 - 2*margin\n",
    "gridSquares = math.floor(((useableWidth/gridSize)//2)*2)\n",
    "create_target(fileName,square_size=gridSize*inch,grid_size=gridSquares,text=f\"{MOA} MOA grid ({gridSize:.3f} in) at {yards} yards\")"
   ]
  }
 ],
 "metadata": {
  "kernelspec": {
   "display_name": "Python 3",
   "language": "python",
   "name": "python3"
  },
  "language_info": {
   "codemirror_mode": {
    "name": "ipython",
    "version": 3
   },
   "file_extension": ".py",
   "mimetype": "text/x-python",
   "name": "python",
   "nbconvert_exporter": "python",
   "pygments_lexer": "ipython3",
   "version": "3.11.7"
  }
 },
 "nbformat": 4,
 "nbformat_minor": 2
}
