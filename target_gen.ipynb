{
 "cells": [
  {
   "cell_type": "code",
   "execution_count": 1,
   "metadata": {},
   "outputs": [],
   "source": [
    "from reportlab.pdfgen import canvas\n",
    "from reportlab.lib.units import inch\n",
    "import math"
   ]
  },
  {
   "cell_type": "code",
   "execution_count": 2,
   "metadata": {},
   "outputs": [],
   "source": [
    "def minute_of_angle(input,moa,input_unit=\"yard\",output_unit=\"inch\"):\n",
    "\n",
    "  # One MOA is equal to 1/60 of a degree.\n",
    "  moa_per_degree = moa / 60\n",
    "\n",
    "  if input_unit == \"yard\":\n",
    "    inches = input * 3 * 12\n",
    "\n",
    "  if output_unit == \"inch\":\n",
    "    # Calculate the MOA.\n",
    "    moa = inches * math.radians(moa_per_degree/2) * 2\n",
    "\n",
    "  return moa"
   ]
  },
  {
   "cell_type": "code",
   "execution_count": 14,
   "metadata": {},
   "outputs": [],
   "source": [
    "def create_target(filename, page_size=(8.5 * inch, 11 * inch), margin=1.5 * inch, square_size=1 * inch, grid_size = 6,lines_color='black', lines_width=1, text=\"\"):\n",
    "  # Create a PDF canvas\n",
    "  pdf = canvas.Canvas(filename, pagesize=page_size)\n",
    "  pdf.setStrokeColor(lines_color)\n",
    "  pdf.setLineWidth(lines_width)\n",
    "  pdf.setLineCap(2)\n",
    "\n",
    "  # Calculate the number of rows and columns\n",
    "  num_rows = grid_size\n",
    "  num_cols = grid_size\n",
    "\n",
    "  # Calculate total grid width and height\n",
    "  grid_width = num_cols * square_size\n",
    "  grid_height = num_rows * square_size\n",
    "\n",
    "  # Calculate available space for the grid\n",
    "  available_width = page_size[0] - 2 * margin\n",
    "  available_height = page_size[1] - 2 * margin\n",
    "\n",
    "  # Center the grid on the page\n",
    "  x_start = margin + (available_width - grid_width) / 2\n",
    "  y_start = margin + (available_height - grid_height) / 2\n",
    "\n",
    "  # Draw horizontal lines\n",
    "  for i in range(num_rows + 1):\n",
    "    y = y_start + i * square_size\n",
    "    pdf.line(x_start, y, x_start + grid_width, y)\n",
    "\n",
    "  # Draw vertical lines\n",
    "  for i in range(num_cols + 1):\n",
    "    x = x_start + i * square_size\n",
    "    pdf.line(x, y_start, x, y_start + grid_height)\n",
    "\n",
    "  # Draw diagonal lines\n",
    "  pdf.setLineWidth(3)\n",
    "  pdf.line(x_start, y_start, x_start + grid_width, y_start + grid_height)\n",
    "  pdf.line(x_start + grid_width, y_start, x_start, y_start + grid_height)\n",
    "\n",
    "  # # Center of page\n",
    "  x_center = margin + available_width / 2\n",
    "\n",
    "  pdf.drawCentredString(x_center,0.5*inch,text)\n",
    "  # Save the PDF\n",
    "  pdf.save()"
   ]
  },
  {
   "cell_type": "code",
   "execution_count": 31,
   "metadata": {},
   "outputs": [],
   "source": [
    "yards = 25\n",
    "MOA = 1.5\n",
    "fileName = f\"{yards}yards_{str(MOA).replace('.','-')}moa.pdf\"\n",
    "gridSize = minute_of_angle(yards,MOA)\n",
    "margin = 0.5 #inches\n",
    "useableWidth = 8.5 - 2*margin\n",
    "gridSquares = math.floor(((useableWidth/gridSize)//2)*2)\n",
    "create_target(fileName,square_size=gridSize*inch,grid_size=gridSquares,text=f\"{MOA} MOA grid ({gridSize:.3f} in) at {yards} yards\")"
   ]
  }
 ],
 "metadata": {
  "kernelspec": {
   "display_name": "Python 3",
   "language": "python",
   "name": "python3"
  },
  "language_info": {
   "codemirror_mode": {
    "name": "ipython",
    "version": 3
   },
   "file_extension": ".py",
   "mimetype": "text/x-python",
   "name": "python",
   "nbconvert_exporter": "python",
   "pygments_lexer": "ipython3",
   "version": "3.10.9"
  }
 },
 "nbformat": 4,
 "nbformat_minor": 2
}
